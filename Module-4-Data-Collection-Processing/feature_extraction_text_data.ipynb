{
 "cells": [
  {
   "cell_type": "code",
   "execution_count": 9,
   "outputs": [],
   "source": [
    "from sklearn.feature_extraction.text import CountVectorizer, TfidfVectorizer"
   ],
   "metadata": {
    "collapsed": false
   }
  },
  {
   "cell_type": "code",
   "execution_count": null,
   "outputs": [],
   "source": [
    "# Sample text data\n",
    "documents = [\n",
    "    \"This phone is amazing! Great battery life.\",\n",
    "    \"Very bad quality. I want a refund.\",\n",
    "    \"Decent phone but average performance.\"\n",
    "]"
   ],
   "metadata": {
    "collapsed": false
   }
  },
  {
   "cell_type": "code",
   "execution_count": null,
   "outputs": [],
   "source": [
    "# ----- Bag of Words -----\n",
    "bow_vectorizer = CountVectorizer()\n",
    "bow_matrix = bow_vectorizer.fit_transform(documents)\n",
    "\n",
    "# Convert to array and print\n",
    "print(\"Vocabulary:\", bow_vectorizer.get_feature_names_out())\n",
    "print(\"BoW Matrix:\\n\", bow_matrix.toarray())"
   ],
   "metadata": {
    "collapsed": false
   }
  },
  {
   "cell_type": "code",
   "execution_count": 10,
   "outputs": [
    {
     "name": "stdout",
     "output_type": "stream",
     "text": [
      "Vocabulary: ['amazing' 'average' 'bad' 'battery' 'but' 'decent' 'great' 'is' 'life'\n",
      " 'performance' 'phone' 'quality' 'refund' 'this' 'very' 'want']\n",
      "BoW Matrix:\n",
      " [[0.38988801 0.         0.         0.38988801 0.         0.\n",
      "  0.38988801 0.38988801 0.38988801 0.         0.29651988 0.\n",
      "  0.         0.38988801 0.         0.        ]\n",
      " [0.         0.         0.4472136  0.         0.         0.\n",
      "  0.         0.         0.         0.         0.         0.4472136\n",
      "  0.4472136  0.         0.4472136  0.4472136 ]\n",
      " [0.         0.46735098 0.         0.         0.46735098 0.46735098\n",
      "  0.         0.         0.         0.46735098 0.35543247 0.\n",
      "  0.         0.         0.         0.        ]]\n"
     ]
    }
   ],
   "source": [
    "# ----- TF-IDF -----\n",
    "tfidf_vectorizer = TfidfVectorizer()\n",
    "tfidf_matrix = tfidf_vectorizer.fit_transform(raw_documents=documents)\n",
    "\n",
    "# Convert to array and print\n",
    "print(\"Vocabulary:\", tfidf_vectorizer.get_feature_names_out())\n",
    "print(\"BoW Matrix:\\n\", tfidf_matrix.toarray())"
   ],
   "metadata": {
    "collapsed": false
   }
  }
 ],
 "metadata": {
  "kernelspec": {
   "display_name": "Python 3",
   "language": "python",
   "name": "python3"
  },
  "language_info": {
   "codemirror_mode": {
    "name": "ipython",
    "version": 2
   },
   "file_extension": ".py",
   "mimetype": "text/x-python",
   "name": "python",
   "nbconvert_exporter": "python",
   "pygments_lexer": "ipython2",
   "version": "2.7.6"
  }
 },
 "nbformat": 4,
 "nbformat_minor": 0
}
