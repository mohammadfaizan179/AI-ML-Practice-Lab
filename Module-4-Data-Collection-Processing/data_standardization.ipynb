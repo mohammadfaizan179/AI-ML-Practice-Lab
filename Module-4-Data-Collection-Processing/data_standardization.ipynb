{
 "cells": [
  {
   "cell_type": "code",
   "execution_count": null,
   "metadata": {
    "collapsed": true
   },
   "outputs": [],
   "source": [
    "import numpy as np\n",
    "import pandas as pd\n",
    "import sklearn.datasets\n",
    "from sklearn.preprocessing import StandardScaler\n",
    "from sklearn.model_selection import train_test_split"
   ]
  },
  {
   "cell_type": "code",
   "execution_count": null,
   "outputs": [],
   "source": [
    "ds = np.array([[50], [60], [70], [80], [90]])\n",
    "mean = ds.mean()\n",
    "std = ds.std()\n",
    "print(\"Mean: \", mean)\n",
    "print(\"Standard Deviation: \", std)\n",
    "\n",
    "scaler = StandardScaler()\n",
    "scaled_ds = scaler.fit_transform(ds)\n",
    "print(\"Standardised Dataset: \", scaled_ds)\n",
    "\n",
    "scaled_ds_mean = np.mean(scaled_ds)\n",
    "scaled_ds_std = np.std(scaled_ds)\n",
    "print(\"Standardised Dataset Mean: \", scaled_ds_mean)\n",
    "print(\"Standardised Dataset Std: \", scaled_ds_std)"
   ],
   "metadata": {
    "collapsed": false
   }
  },
  {
   "cell_type": "code",
   "execution_count": null,
   "outputs": [],
   "source": [
    "train_data, test_data = train_test_split(np.arange(5), test_size=0.25, shuffle=True, random_state=3)"
   ],
   "metadata": {
    "collapsed": false
   }
  },
  {
   "cell_type": "code",
   "execution_count": null,
   "outputs": [],
   "source": [
    "dataset = sklearn.datasets.load_breast_cancer()\n",
    "df = pd.DataFrame(dataset.data, columns=dataset.feature_names)\n",
    "\n",
    "X = df\n",
    "Y = dataset.target\n",
    "\n",
    "# Splitting the data into training and test data\n",
    "X_train, X_test, Y_train, Y_test = train_test_split(X, Y, test_size=0.2, random_state=3)\n",
    "\n",
    "print(X.shape)\n",
    "print(X_train.shape)\n",
    "print(X_test.shape)"
   ],
   "metadata": {
    "collapsed": false
   }
  },
  {
   "cell_type": "code",
   "execution_count": null,
   "outputs": [],
   "source": [
    "dataset.data.std()\n",
    "\n",
    "scaler = StandardScaler()\n",
    "scaler.fit_transform(X_train)\n",
    "\n",
    "scaler.fit(X_train)\n",
    "X_train_standardised = scaler.transform(X_train)\n",
    "X_train_standardised.std()"
   ],
   "metadata": {
    "collapsed": false
   }
  },
  {
   "cell_type": "code",
   "execution_count": null,
   "outputs": [],
   "source": [],
   "metadata": {
    "collapsed": false
   }
  }
 ],
 "metadata": {
  "kernelspec": {
   "display_name": "Python 3",
   "language": "python",
   "name": "python3"
  },
  "language_info": {
   "codemirror_mode": {
    "name": "ipython",
    "version": 2
   },
   "file_extension": ".py",
   "mimetype": "text/x-python",
   "name": "python",
   "nbconvert_exporter": "python",
   "pygments_lexer": "ipython2",
   "version": "2.7.6"
  }
 },
 "nbformat": 4,
 "nbformat_minor": 0
}
