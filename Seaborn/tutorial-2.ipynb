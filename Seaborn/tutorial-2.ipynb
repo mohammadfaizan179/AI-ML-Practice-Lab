{
 "cells": [
  {
   "cell_type": "code",
   "execution_count": null,
   "metadata": {
    "collapsed": true,
    "pycharm": {
     "is_executing": true
    }
   },
   "outputs": [],
   "source": [
    "import pandas as pd\n",
    "housing_ds =  pd.read_csv(\"/home/muhammad-faizan/Projects/Personal/AI-ML/AI_1/Datasets/housing.csv\")\n",
    "housing_ds.head()"
   ]
  },
  {
   "cell_type": "code",
   "execution_count": null,
   "outputs": [],
   "source": [
    "import kagglehub\n",
    "kagglehub.dataset_download(\"vikrishnan/boston-house-prices\")"
   ],
   "metadata": {
    "collapsed": false
   }
  },
  {
   "cell_type": "code",
   "execution_count": null,
   "outputs": [],
   "source": [
    "path = '/home/muhammad-faizan/.cache/kagglehub/datasets/vikrishnan/boston-house-prices/versions/1/housing.csv'\n",
    "price = pd.read_csv(path)\n",
    "price.head()"
   ],
   "metadata": {
    "collapsed": false
   }
  }
 ],
 "metadata": {
  "kernelspec": {
   "display_name": "Python 3",
   "language": "python",
   "name": "python3"
  },
  "language_info": {
   "codemirror_mode": {
    "name": "ipython",
    "version": 2
   },
   "file_extension": ".py",
   "mimetype": "text/x-python",
   "name": "python",
   "nbconvert_exporter": "python",
   "pygments_lexer": "ipython2",
   "version": "2.7.6"
  }
 },
 "nbformat": 4,
 "nbformat_minor": 0
}
