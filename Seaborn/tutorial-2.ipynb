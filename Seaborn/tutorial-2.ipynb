{
 "cells": [
  {
   "cell_type": "code",
   "execution_count": null,
   "metadata": {
    "collapsed": true,
    "pycharm": {
     "is_executing": true
    }
   },
   "outputs": [],
   "source": [
    "import pandas as pd\n",
    "housing_ds =  pd.read_csv(\"/home/muhammad-faizan/Projects/Personal/AI-ML/AI_1/Datasets/housing.csv\")\n",
    "housing_ds.head()"
   ]
  },
  {
   "cell_type": "code",
   "execution_count": 16,
   "outputs": [
    {
     "name": "stdout",
     "output_type": "stream",
     "text": [
      "Downloading from https://www.kaggle.com/api/v1/datasets/download/vikrishnan/boston-house-prices?dataset_version_number=1...\n"
     ]
    },
    {
     "name": "stderr",
     "output_type": "stream",
     "text": [
      "100%|██████████| 12.8k/12.8k [00:00<00:00, 4.64MB/s]"
     ]
    },
    {
     "name": "stdout",
     "output_type": "stream",
     "text": [
      "Extracting files...\n"
     ]
    },
    {
     "name": "stderr",
     "output_type": "stream",
     "text": [
      "\n"
     ]
    },
    {
     "data": {
      "text/plain": "'/home/muhammad-faizan/.cache/kagglehub/datasets/vikrishnan/boston-house-prices/versions/1'"
     },
     "execution_count": 16,
     "metadata": {},
     "output_type": "execute_result"
    }
   ],
   "source": [
    "import kagglehub\n",
    "kagglehub.dataset_download(\"vikrishnan/boston-house-prices\")"
   ],
   "metadata": {
    "collapsed": false
   }
  },
  {
   "cell_type": "code",
   "execution_count": 19,
   "outputs": [
    {
     "data": {
      "text/plain": "  0.00632  18.00   2.310  0  0.5380  6.5750  65.20  4.0900   1  296.0  15.30 396.90   4.98  24.00\n0   0.02731   0.00   7.070  0  0.4690  6.4210  78...                                             \n1   0.02729   0.00   7.070  0  0.4690  7.1850  61...                                             \n2   0.03237   0.00   2.180  0  0.4580  6.9980  45...                                             \n3   0.06905   0.00   2.180  0  0.4580  7.1470  54...                                             \n4   0.02985   0.00   2.180  0  0.4580  6.4300  58...                                             ",
      "text/html": "<div>\n<style scoped>\n    .dataframe tbody tr th:only-of-type {\n        vertical-align: middle;\n    }\n\n    .dataframe tbody tr th {\n        vertical-align: top;\n    }\n\n    .dataframe thead th {\n        text-align: right;\n    }\n</style>\n<table border=\"1\" class=\"dataframe\">\n  <thead>\n    <tr style=\"text-align: right;\">\n      <th></th>\n      <th>0.00632  18.00   2.310  0  0.5380  6.5750  65.20  4.0900   1  296.0  15.30 396.90   4.98  24.00</th>\n    </tr>\n  </thead>\n  <tbody>\n    <tr>\n      <th>0</th>\n      <td>0.02731   0.00   7.070  0  0.4690  6.4210  78...</td>\n    </tr>\n    <tr>\n      <th>1</th>\n      <td>0.02729   0.00   7.070  0  0.4690  7.1850  61...</td>\n    </tr>\n    <tr>\n      <th>2</th>\n      <td>0.03237   0.00   2.180  0  0.4580  6.9980  45...</td>\n    </tr>\n    <tr>\n      <th>3</th>\n      <td>0.06905   0.00   2.180  0  0.4580  7.1470  54...</td>\n    </tr>\n    <tr>\n      <th>4</th>\n      <td>0.02985   0.00   2.180  0  0.4580  6.4300  58...</td>\n    </tr>\n  </tbody>\n</table>\n</div>"
     },
     "execution_count": 19,
     "metadata": {},
     "output_type": "execute_result"
    }
   ],
   "source": [
    "path = '/home/muhammad-faizan/.cache/kagglehub/datasets/vikrishnan/boston-house-prices/versions/1/housing.csv'\n",
    "price = pd.read_csv(path)\n",
    "price.head()"
   ],
   "metadata": {
    "collapsed": false
   }
  },
  {
   "cell_type": "code",
   "execution_count": null,
   "outputs": [],
   "source": [],
   "metadata": {
    "collapsed": false
   }
  }
 ],
 "metadata": {
  "kernelspec": {
   "display_name": "Python 3",
   "language": "python",
   "name": "python3"
  },
  "language_info": {
   "codemirror_mode": {
    "name": "ipython",
    "version": 2
   },
   "file_extension": ".py",
   "mimetype": "text/x-python",
   "name": "python",
   "nbconvert_exporter": "python",
   "pygments_lexer": "ipython2",
   "version": "2.7.6"
  }
 },
 "nbformat": 4,
 "nbformat_minor": 0
}
