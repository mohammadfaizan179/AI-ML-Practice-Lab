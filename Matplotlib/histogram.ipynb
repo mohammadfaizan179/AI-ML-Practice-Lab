{
 "cells": [
  {
   "cell_type": "code",
   "execution_count": null,
   "metadata": {},
   "outputs": [],
   "source": [
    "import matplotlib.pyplot as plt\n",
    "import numpy as np"
   ]
  },
  {
   "cell_type": "code",
   "execution_count": null,
   "metadata": {},
   "outputs": [],
   "source": [
    "data = np.random.normal(size=1000, scale=20, loc=50)\n",
    "\n",
    "plt.title(\"Histogram\", color=\"g\", fontsize=15, loc=\"center\")\n",
    "plt.xlabel(\"Input\", color=\"g\", fontsize=15, loc=\"left\")\n",
    "plt.ylabel(\"Output\", color=\"r\", fontsize=15, loc=\"bottom\")\n",
    "\n",
    "plt.hist(data, bins=10, alpha=0.5, edgecolor=\"r\", linewidth=5)\n",
    "\n",
    "plt.grid(linestyle=\"--\")\n"
   ]
  },
  {
   "cell_type": "code",
   "execution_count": null,
   "metadata": {},
   "outputs": [],
   "source": [
    "scores = [55, 61, 72, 48, 49, 51, 77, 67, 59, 62, 68, 73, 50, 45, 44, 78, 82, 86, 91, 95, 59, 60, 61]\n",
    "plt.hist(\n",
    "    data,\n",
    "    bins=[10,20,30,40,50,60,70,80, 90, 100]\n",
    ")\n",
    "plt.title(\"Student Score Distribution\", fontsize=14)\n",
    "plt.xlabel(\"Score Range\")\n",
    "plt.ylabel(\"Number of Students\")\n",
    "plt.xticks([40, 50, 60, 70, 80, 90, 100])\n",
    "plt.grid(axis='y', linestyle='--', alpha=0.7)\n",
    "plt.show()"
   ]
  },
  {
   "cell_type": "code",
   "execution_count": null,
   "metadata": {},
   "outputs": [],
   "source": []
  }
 ],
 "metadata": {
  "kernelspec": {
   "display_name": "Python 3 (ipykernel)",
   "language": "python",
   "name": "python3"
  },
  "language_info": {
   "codemirror_mode": {
    "name": "ipython",
    "version": 3
   },
   "file_extension": ".py",
   "mimetype": "text/x-python",
   "name": "python",
   "nbconvert_exporter": "python",
   "pygments_lexer": "ipython3",
   "version": "3.12.3"
  }
 },
 "nbformat": 4,
 "nbformat_minor": 4
}
