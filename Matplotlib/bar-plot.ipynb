{
 "cells": [
  {
   "cell_type": "code",
   "execution_count": null,
   "id": "324e4c0a-d4c6-49ee-8ded-85bb6b70e83a",
   "metadata": {},
   "outputs": [],
   "source": [
    "import matplotlib.pyplot as plt\n",
    "import numpy as np"
   ]
  },
  {
   "cell_type": "code",
   "execution_count": null,
   "id": "e71228db",
   "metadata": {
    "collapsed": false,
    "jupyter": {
     "outputs_hidden": false
    }
   },
   "outputs": [],
   "source": [
    "x = [1,2,3,4,5]\n",
    "y = [2,4,6,8,10]\n",
    "z = [1,8,3,64,125]"
   ]
  },
  {
   "cell_type": "code",
   "execution_count": null,
   "id": "abbedd5c-a597-435d-9b5a-8f0e22038be0",
   "metadata": {},
   "outputs": [],
   "source": [
    "plt.xlabel(\"input\", loc=\"center\", fontsize=15)\n",
    "plt.ylabel(\"output\", loc=\"center\", fontsize=15)\n",
    "plt.title(\"Function: x^2\", loc=\"center\", fontsize=15)\n",
    "plt.bar(x,y, width=0.4, bottom=0, color=[\"r\", \"g\", \"b\"], align=\"center\", edgecolor=\"m\", linewidth=3, linestyle=\":\", alpha=0.7, label=\"square\")\n",
    "plt.legend()\n",
    "plt.show()"
   ]
  },
  {
   "cell_type": "code",
   "execution_count": null,
   "id": "bf3bf416-196a-44ff-a8de-f1017b052309",
   "metadata": {},
   "outputs": [],
   "source": [
    "plt.xlabel(\"Input2\", fontsize=15, color=\"r\", loc=\"center\")\n",
    "plt.ylabel(\"Output2\", fontsize=15, color=\"b\", loc=\"center\")\n",
    "width=0.2\n",
    "p = p = np.arange(len(x))\n",
    "p1 = [width+j for j in p]\n",
    "\n",
    "plt.bar(p,y, width=0.2)\n",
    "plt.bar(p1,z, width=0.2)\n",
    "plt.xticks(p+width/2, x, rotation=10)\n"
   ]
  },
  {
   "cell_type": "markdown",
   "id": "399e0928-233f-4413-8c8f-eadcbfb40c31",
   "metadata": {},
   "source": [
    "# "
   ]
  }
 ],
 "metadata": {
  "kernelspec": {
   "display_name": "Python 3 (ipykernel)",
   "language": "python",
   "name": "python3"
  },
  "language_info": {
   "codemirror_mode": {
    "name": "ipython",
    "version": 3
   },
   "file_extension": ".py",
   "mimetype": "text/x-python",
   "name": "python",
   "nbconvert_exporter": "python",
   "pygments_lexer": "ipython3",
   "version": "3.12.3"
  }
 },
 "nbformat": 4,
 "nbformat_minor": 5
}
