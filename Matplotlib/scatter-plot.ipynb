{
 "cells": [
  {
   "cell_type": "raw",
   "metadata": {},
   "source": [
    "Scatter Plot"
   ]
  },
  {
   "cell_type": "code",
   "execution_count": null,
   "metadata": {},
   "outputs": [],
   "source": [
    "import matplotlib.pyplot as plt\n",
    "\n",
    "inp = [1,2,3,4,5]\n",
    "out = [10, 13, 5, 2, 20]\n",
    "\n",
    "plt.scatter(\n",
    "    inp,\n",
    "    out,\n",
    "    c=[10, 13, 5, 2, 20],\n",
    "    cmap=\"viridis\",\n",
    "    s=[50,80,100,300, 200],\n",
    "    marker=\"*\",\n",
    "    alpha=0.7,\n",
    "    linewidth=1.5,\n",
    "    edgecolor=\"r\",\n",
    "    label=\"Rating\"\n",
    ")\n",
    "plt.title(\"Scatter Plot\", color=\"r\", fontsize=15, loc=\"center\")\n",
    "plt.xlabel(\"Input\", fontsize=10, color=\"r\", loc=\"left\", rotation =15)\n",
    "plt.ylabel(\"Output\", fontsize=10, color=\"r\", loc=\"bottom\", rotation =15)\n",
    "\n",
    "plt.legend()\n",
    "\n",
    "plt.colorbar()\n",
    "\n",
    "plt.show()"
   ]
  }
 ],
 "metadata": {
  "kernelspec": {
   "display_name": "Python 3 (ipykernel)",
   "language": "python",
   "name": "python3"
  },
  "language_info": {
   "codemirror_mode": {
    "name": "ipython",
    "version": 3
   },
   "file_extension": ".py",
   "mimetype": "text/x-python",
   "name": "python",
   "nbconvert_exporter": "python",
   "pygments_lexer": "ipython3",
   "version": "3.12.3"
  }
 },
 "nbformat": 4,
 "nbformat_minor": 4
}
